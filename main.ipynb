{
 "cells": [
  {
   "cell_type": "code",
   "execution_count": null,
   "id": "9d17ba5e-a8d7-4c27-908b-90385f2bc9b5",
   "metadata": {},
   "outputs": [
    {
     "name": "stdout",
     "output_type": "stream",
     "text": [
      "shape: (4_534_327, 10)\n",
      "┌────────────────────────────┬─────────┬──────────┬────────┬───┬───────┬──────┬────────┬─────────┐\n",
      "│ Date/Time                  ┆ Lat     ┆ Lon      ┆ Base   ┆ … ┆ Month ┆ Year ┆ Minute ┆ cluster │\n",
      "│ ---                        ┆ ---     ┆ ---      ┆ ---    ┆   ┆ ---   ┆ ---  ┆ ---    ┆ ---     │\n",
      "│ str                        ┆ f64     ┆ f64      ┆ str    ┆   ┆ i64   ┆ i64  ┆ i64    ┆ i64     │\n",
      "╞════════════════════════════╪═════════╪══════════╪════════╪═══╪═══════╪══════╪════════╪═════════╡\n",
      "│ 2014-04-01T00:11:00.000000 ┆ 40.769  ┆ -73.9549 ┆ B02512 ┆ … ┆ 4     ┆ 2014 ┆ 11     ┆ 8       │\n",
      "│ 2014-04-01T00:17:00.000000 ┆ 40.7267 ┆ -74.0345 ┆ B02512 ┆ … ┆ 4     ┆ 2014 ┆ 17     ┆ 8       │\n",
      "│ 2014-04-01T00:21:00.000000 ┆ 40.7316 ┆ -73.9873 ┆ B02512 ┆ … ┆ 4     ┆ 2014 ┆ 21     ┆ 8       │\n",
      "│ 2014-04-01T00:28:00.000000 ┆ 40.7588 ┆ -73.9776 ┆ B02512 ┆ … ┆ 4     ┆ 2014 ┆ 28     ┆ 8       │\n",
      "│ 2014-04-01T00:33:00.000000 ┆ 40.7594 ┆ -73.9722 ┆ B02512 ┆ … ┆ 4     ┆ 2014 ┆ 33     ┆ 8       │\n",
      "│ …                          ┆ …       ┆ …        ┆ …      ┆ … ┆ …     ┆ …    ┆ …      ┆ …       │\n",
      "│ 2014-09-30T22:57:00.000000 ┆ 40.7668 ┆ -73.9845 ┆ B02764 ┆ … ┆ 9     ┆ 2014 ┆ 57     ┆ 0       │\n",
      "│ 2014-09-30T22:57:00.000000 ┆ 40.6911 ┆ -74.1773 ┆ B02764 ┆ … ┆ 9     ┆ 2014 ┆ 57     ┆ 0       │\n",
      "│ 2014-09-30T22:58:00.000000 ┆ 40.8519 ┆ -73.9319 ┆ B02764 ┆ … ┆ 9     ┆ 2014 ┆ 58     ┆ 6       │\n",
      "│ 2014-09-30T22:58:00.000000 ┆ 40.7081 ┆ -74.0066 ┆ B02764 ┆ … ┆ 9     ┆ 2014 ┆ 58     ┆ 0       │\n",
      "│ 2014-09-30T22:58:00.000000 ┆ 40.714  ┆ -73.9496 ┆ B02764 ┆ … ┆ 9     ┆ 2014 ┆ 58     ┆ 0       │\n",
      "└────────────────────────────┴─────────┴──────────┴────────┴───┴───────┴──────┴────────┴─────────┘\n"
     ]
    }
   ],
   "source": [
    "import polars as pl\n",
    "import pandas as pd\n",
    "import numpy as np\n",
    "import joblib\n",
    "import matplotlib.pyplot as plt\n",
    "from datetime import datetime\n",
    "\n",
    "#rbf = RepeatingBasisFunction()\n",
    "df = pl.read_csv(\"data/clusters/clustered_alt.csv\")\n",
    "hour = joblib.load(\"models/scalers/hour_rbf.joblib\")\n",
    "print(df)\n",
    "fig,ax = plt.subplots()\n",
    "ax.scatter(df[\"Lat\"],df[\"Lon\"],c=df[\"cluster\"])\n",
    "fig.savefig(\"fig.png\")\n"
   ]
  },
  {
   "cell_type": "code",
   "execution_count": null,
   "id": "14f6389c-4612-4768-ae5a-3293c99638f7",
   "metadata": {},
   "outputs": [],
   "source": [
    "import pandas as pd\n",
    "from datetime import datetime\n",
    "import numpy as np\n",
    "data = pd.read_csv(\"april_reduced.csv\")\n",
    "\n",
    "data[\"Date/Time\"] = pd.to_datetime(data[\"Date/Time\"])\n",
    "def encode_cyclic(a:float):\n",
    "    sin = (np.sin(2*np.pi *a)+1)/2\n",
    "    cos = (np.cos(2*np.pi *a)+1)/2\n",
    "    return sin,cos\n",
    "data[\"hour\"] = data[\"Date/Time\"].dt.hour\n",
    "print(data[\"hour\"].map(encode_cyclic))\n",
    "from feature_engine.creation import CyclicalFeatures\n",
    "print(data[\"Date/Time\"])"
   ]
  },
  {
   "cell_type": "code",
   "execution_count": 2,
   "id": "ae0515ce-810f-4454-868e-b51e190059f1",
   "metadata": {},
   "outputs": [
    {
     "name": "stdout",
     "output_type": "stream",
     "text": [
      "<pandas.core.groupby.generic.DataFrameGroupBy object at 0x7faa6d6ed4f0>\n",
      "<pandas.core.groupby.generic.DataFrameGroupBy object at 0x7faa6c513230>\n"
     ]
    }
   ],
   "source": [
    "import joblib\n",
    "import sklearn\n",
    "from main import months\n",
    "\n",
    "for month in months:\n",
    "    model= joblib.load(f\"models/clustering/{month}.joblib\")\n",
    "\n"
   ]
  },
  {
   "cell_type": "code",
   "execution_count": 3,
   "id": "9626943f-288f-430f-a7ea-ec9d25d1e06c",
   "metadata": {},
   "outputs": [],
   "source": [
    "import pandas as pd\n",
    "def clusters():\n",
    "    for key, item in months.items():\n",
    "        model = joblib.load(f\"models/clustering/{key}.joblib\")\n",
    "        data = pd.read_csv(f\"data/processed/{key}.csv\").drop(\n",
    "            [\"Hour\", \"Minute\", \"Base\"], axis=1\n",
    "        )\n",
    "        return pd.concat(\n",
    "            [data, pd.Series(model.predict(data), name=\"cluster\")], axis=1\n",
    "        )\n",
    "       # clusters = cluster.groupby(\"cluster\").agg()\n",
    "        #print(clusters)\n",
    "#        breakpoint()\n",
    "      #  cluster.to_csv(f\"data/clusters/{key}.csv\")\n",
    "\n",
    "\n",
    "clusters = clusters()\n"
   ]
  },
  {
   "cell_type": "code",
   "execution_count": 21,
   "id": "b9044b3f-eccf-4d84-b13e-d498878120a2",
   "metadata": {},
   "outputs": [
    {
     "name": "stdout",
     "output_type": "stream",
     "text": [
      "       Unnamed: 0      Lat      Lon  Day  Year  Month  hour_sin  hour_cos  \\\n",
      "0               0  40.7690 -73.9549    1  2014      4  0.000000  1.000000   \n",
      "1               1  40.7267 -74.0345    1  2014      4  0.000000  1.000000   \n",
      "2               2  40.7316 -73.9873    1  2014      4  0.000000  1.000000   \n",
      "3               3  40.7588 -73.9776    1  2014      4  0.000000  1.000000   \n",
      "4               4  40.7594 -73.9722    1  2014      4  0.000000  1.000000   \n",
      "...           ...      ...      ...  ...   ...    ...       ...       ...   \n",
      "35531       35531  40.7672 -73.9702   30  2014      4 -0.258819  0.965926   \n",
      "35532       35532  40.7270 -73.9803   30  2014      4 -0.258819  0.965926   \n",
      "35533       35533  40.6906 -73.9582   30  2014      4 -0.258819  0.965926   \n",
      "35534       35534  40.7737 -73.8717   30  2014      4 -0.258819  0.965926   \n",
      "35535       35535  40.8660 -73.9278   30  2014      4 -0.258819  0.965926   \n",
      "\n",
      "       minute_sin  minute_cos cluster  \n",
      "0        0.913545    0.406737  B02512  \n",
      "1        0.978148   -0.207912  B02512  \n",
      "2        0.809017   -0.587785  B02512  \n",
      "3        0.207912   -0.978148  B02512  \n",
      "4       -0.309017   -0.951057  B02512  \n",
      "...           ...         ...     ...  \n",
      "35531   -0.866025   -0.500000  B02512  \n",
      "35532   -0.994522   -0.104528  B02512  \n",
      "35533   -0.978148    0.207912  B02512  \n",
      "35534   -0.978148    0.207912  B02512  \n",
      "35535   -0.104528    0.994522  B02512  \n",
      "\n",
      "[35536 rows x 11 columns]\n"
     ]
    }
   ],
   "source": [
    "groups = {}\n",
    "for c in clusters[\"cluster\"].unique():\n",
    "    groups[c] = clusters[clusters[\"cluster\"] == c]\n",
    "print(groups['B02512'])"
   ]
  }
 ],
 "metadata": {
  "kernelspec": {
   "display_name": "Python 3 (ipykernel)",
   "language": "python",
   "name": "python3"
  },
  "language_info": {
   "codemirror_mode": {
    "name": "ipython",
    "version": 3
   },
   "file_extension": ".py",
   "mimetype": "text/x-python",
   "name": "python",
   "nbconvert_exporter": "python",
   "pygments_lexer": "ipython3",
   "version": "3.12.7"
  }
 },
 "nbformat": 4,
 "nbformat_minor": 5
}
