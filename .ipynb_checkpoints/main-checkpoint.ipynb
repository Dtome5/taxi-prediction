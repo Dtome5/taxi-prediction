{
 "cells": [
  {
   "cell_type": "code",
   "execution_count": 6,
   "id": "14f6389c-4612-4768-ae5a-3293c99638f7",
   "metadata": {},
   "outputs": [
    {
     "name": "stdout",
     "output_type": "stream",
     "text": [
      "The black module is not an IPython extension.\n",
      "0     4/1/2014 0:11:00\n",
      "1     4/1/2014 0:17:00\n",
      "2     4/1/2014 0:21:00\n",
      "3     4/1/2014 0:28:00\n",
      "4     4/1/2014 0:33:00\n",
      "            ...       \n",
      "95    4/1/2014 6:54:00\n",
      "96    4/1/2014 6:56:00\n",
      "97    4/1/2014 6:57:00\n",
      "98    4/1/2014 6:59:00\n",
      "99    4/1/2014 7:00:00\n",
      "Name: Date/Time, Length: 100, dtype: object\n"
     ]
    }
   ],
   "source": [
    "import pandas as pd\n",
    "\n",
    "\n",
    "data = pd.read_csv(\"april_reduced.csv\")\n",
    "\n",
    "print(data[\"Date/Time\"])"
   ]
  },
  {
   "cell_type": "code",
   "execution_count": null,
   "id": "ae0515ce-810f-4454-868e-b51e190059f1",
   "metadata": {},
   "outputs": [],
   "source": []
  }
 ],
 "metadata": {
  "kernelspec": {
   "display_name": "Python 3 (ipykernel)",
   "language": "python",
   "name": "python3"
  },
  "language_info": {
   "codemirror_mode": {
    "name": "ipython",
    "version": 3
   },
   "file_extension": ".py",
   "mimetype": "text/x-python",
   "name": "python",
   "nbconvert_exporter": "python",
   "pygments_lexer": "ipython3",
   "version": "3.12.7"
  }
 },
 "nbformat": 4,
 "nbformat_minor": 5
}
